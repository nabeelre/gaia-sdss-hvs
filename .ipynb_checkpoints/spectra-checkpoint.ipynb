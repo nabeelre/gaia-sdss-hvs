{
 "cells": [
  {
   "cell_type": "code",
   "execution_count": 20,
   "id": "a6ebbd8c",
   "metadata": {},
   "outputs": [],
   "source": [
    "import numpy as np\n",
    "import pandas as pd\n",
    "import matplotlib.pyplot as plt\n",
    "\n",
    "import astropy\n",
    "from astropy.io import fits\n",
    "from astropy.table import Table\n",
    "import astropy.coordinates as coord\n",
    "import astropy.units as u\n",
    "\n",
    "from astroquery.sdss import SDSS"
   ]
  },
  {
   "cell_type": "code",
   "execution_count": 2,
   "id": "c7fc6c34",
   "metadata": {},
   "outputs": [],
   "source": [
    "names = [\n",
    "    \"SDSS J091301.00+305120.0\",\n",
    "    \"SDSS J091759.42+672238.7\",\n",
    "    \"SDSS J110557.45+093439.5\",\n",
    "    \"SDSS J113312.12+010824.9\",\n",
    "    \"SDSS J094214.04+200322.1\",\n",
    "    \"SDSS J102137.08-005234.8\",\n",
    "    \"SDSS J120337.85+180250.4\"\n",
    "]\n",
    "\n",
    "# '0h8m05.63s +14d50m23.3s'"
   ]
  },
  {
   "cell_type": "code",
   "execution_count": 3,
   "id": "06c0b369",
   "metadata": {},
   "outputs": [],
   "source": [
    "SDSS_name = names[1]"
   ]
  },
  {
   "cell_type": "code",
   "execution_count": 4,
   "id": "398a5bf7",
   "metadata": {
    "scrolled": false
   },
   "outputs": [],
   "source": [
    "def extract_coords(SDSS_name):\n",
    "    SDSS_name = SDSS_name[6:]\n",
    "    \n",
    "    decsign = ''\n",
    "    if '+' in SDSS_name:\n",
    "        decsign = '+'\n",
    "    elif '-' in SDSS_name:\n",
    "        decsign = '-'\n",
    "    else:\n",
    "        print(\"couldn't find declination sign\")\n",
    "        \n",
    "    RA = SDSS_name[0:SDSS_name.index(decsign)]\n",
    "    RA = RA[0:2] + 'h' + RA[2:4] + 'm' + RA[4:] + 's'\n",
    "    \n",
    "    Dec = SDSS_name[SDSS_name.index(decsign):]\n",
    "    Dec = Dec[0:3] + 'd' + Dec[3:5] + 'm' + Dec[5:] + 's'\n",
    "    \n",
    "    return RA, Dec"
   ]
  },
  {
   "cell_type": "code",
   "execution_count": 5,
   "id": "3b5e5ac2",
   "metadata": {},
   "outputs": [],
   "source": [
    "RA, Dec = extract_coords(SDSS_name)"
   ]
  },
  {
   "cell_type": "code",
   "execution_count": 6,
   "id": "217dabfe",
   "metadata": {},
   "outputs": [
    {
     "name": "stdout",
     "output_type": "stream",
     "text": [
      "09h17m59.42s +67d22m38.7s\n"
     ]
    }
   ],
   "source": [
    "print(RA, Dec)"
   ]
  },
  {
   "cell_type": "code",
   "execution_count": 8,
   "id": "df94651f",
   "metadata": {},
   "outputs": [
    {
     "name": "stdout",
     "output_type": "stream",
     "text": [
      "Help on function query_specobj in module astroquery.utils.process_asyncs:\n",
      "\n",
      "query_specobj(self, *args, **kwargs)\n",
      "    Queries the service and returns a table object.\n",
      "    \n",
      "    Used to query the SpecObjAll table with plate, mjd and fiberID values.\n",
      "    \n",
      "    At least one of ``plate``, ``mjd`` or ``fiberID`` parameters must be\n",
      "    specified.\n",
      "    \n",
      "    Parameters\n",
      "    ----------\n",
      "    plate : integer, optional\n",
      "        Plate number.\n",
      "    mjd : integer, optional\n",
      "        Modified Julian Date indicating the date a given piece of SDSS data\n",
      "        was taken.\n",
      "    fiberID : integer, optional\n",
      "        Fiber number.\n",
      "    fields : list, optional\n",
      "        SDSS PhotoObj or SpecObj quantities to return. If None, defaults\n",
      "        to quantities required to find corresponding spectra and images\n",
      "        of matched objects (e.g. plate, fiberID, mjd, etc.).\n",
      "    timeout : float, optional\n",
      "        Time limit (in seconds) for establishing successful connection with\n",
      "        remote server.  Defaults to `SDSSClass.TIMEOUT`.\n",
      "    field_help: str or bool, optional\n",
      "        Field name to check whether a valid PhotoObjAll or SpecObjAll\n",
      "        field name. If `True` or it is an invalid field name all the valid\n",
      "        field names are returned as a dict.\n",
      "    get_query_payload : bool\n",
      "        If True, this will return the data the query would have sent out,\n",
      "        but does not actually do the query.\n",
      "    data_release : int\n",
      "        The data release of the SDSS to use.\n",
      "    \n",
      "    Examples\n",
      "    --------\n",
      "    >>> from astroquery.sdss import SDSS\n",
      "    >>> result = SDSS.query_specobj(plate=2340,\n",
      "    ...     fields=['ra', 'dec','plate', 'mjd', 'fiberID', 'specobjid'])\n",
      "    >>> print(result[:5])\n",
      "          ra           dec      plate  mjd  fiberID      specobjid\n",
      "    ------------- ------------- ----- ----- ------- -------------------\n",
      "    49.2020613611 5.20883041368  2340 53733      60 2634622337315530752\n",
      "    48.3745360119 5.26557511598  2340 53733     154 2634648175838783488\n",
      "    47.1604269095 5.48241410994  2340 53733     332 2634697104106219520\n",
      "    48.6634992214 6.69459110287  2340 53733     553 2634757852123654144\n",
      "    48.0759195428 6.18757403485  2340 53733     506 2634744932862027776\n",
      "    \n",
      "    \n",
      "    Returns\n",
      "    -------\n",
      "    table : A `~astropy.table.Table` object.\n",
      "\n"
     ]
    }
   ],
   "source": [
    "help(SDSS.query_specobj)"
   ]
  },
  {
   "cell_type": "code",
   "execution_count": 9,
   "id": "5ff97cc7",
   "metadata": {
    "collapsed": true
   },
   "outputs": [
    {
     "ename": "ValueError",
     "evalue": "Some errors were detected !\n    Line #62 (got 4 columns instead of 1)\n    Line #124 (got 2 columns instead of 1)\n    Line #125 (got 2 columns instead of 1)\n    Line #131 (got 2 columns instead of 1)\n    Line #132 (got 3 columns instead of 1)\n    Line #133 (got 2 columns instead of 1)\n    Line #135 (got 4 columns instead of 1)\n    Line #136 (got 2 columns instead of 1)\n    Line #139 (got 2 columns instead of 1)",
     "output_type": "error",
     "traceback": [
      "\u001b[0;31m---------------------------------------------------------------------------\u001b[0m",
      "\u001b[0;31mValueError\u001b[0m                                Traceback (most recent call last)",
      "\u001b[0;32m/var/folders/jn/p0g0f05x64b5yxz9ppdkcswh0000gn/T/ipykernel_61131/2879557495.py\u001b[0m in \u001b[0;36m<module>\u001b[0;34m\u001b[0m\n\u001b[1;32m      2\u001b[0m \u001b[0mxid\u001b[0m \u001b[0;34m=\u001b[0m \u001b[0mSDSS\u001b[0m\u001b[0;34m.\u001b[0m\u001b[0mquery_region\u001b[0m\u001b[0;34m(\u001b[0m\u001b[0mpos\u001b[0m\u001b[0;34m,\u001b[0m \u001b[0mspectro\u001b[0m\u001b[0;34m=\u001b[0m\u001b[0;32mTrue\u001b[0m\u001b[0;34m,\u001b[0m \u001b[0mdata_release\u001b[0m\u001b[0;34m=\u001b[0m\u001b[0;36m12\u001b[0m\u001b[0;34m)\u001b[0m\u001b[0;34m\u001b[0m\u001b[0;34m\u001b[0m\u001b[0m\n\u001b[1;32m      3\u001b[0m \u001b[0;34m\u001b[0m\u001b[0m\n\u001b[0;32m----> 4\u001b[0;31m \u001b[0msp\u001b[0m \u001b[0;34m=\u001b[0m \u001b[0mSDSS\u001b[0m\u001b[0;34m.\u001b[0m\u001b[0mget_spectra\u001b[0m\u001b[0;34m(\u001b[0m\u001b[0mmatches\u001b[0m\u001b[0;34m=\u001b[0m\u001b[0mxid\u001b[0m\u001b[0;34m)\u001b[0m\u001b[0;34m\u001b[0m\u001b[0;34m\u001b[0m\u001b[0m\n\u001b[0m\u001b[1;32m      5\u001b[0m \u001b[0;34m\u001b[0m\u001b[0m\n\u001b[1;32m      6\u001b[0m \u001b[0mprint\u001b[0m\u001b[0;34m(\u001b[0m\u001b[0mnp\u001b[0m\u001b[0;34m.\u001b[0m\u001b[0mshape\u001b[0m\u001b[0;34m(\u001b[0m\u001b[0msp\u001b[0m\u001b[0;34m)\u001b[0m\u001b[0;34m)\u001b[0m\u001b[0;34m\u001b[0m\u001b[0;34m\u001b[0m\u001b[0m\n",
      "\u001b[0;32m/opt/homebrew/lib/python3.9/site-packages/astroquery/sdss/core.py\u001b[0m in \u001b[0;36mget_spectra\u001b[0;34m(self, coordinates, radius, matches, plate, fiberID, mjd, timeout, cache, data_release, show_progress)\u001b[0m\n\u001b[1;32m    621\u001b[0m         \"\"\"\n\u001b[1;32m    622\u001b[0m \u001b[0;34m\u001b[0m\u001b[0m\n\u001b[0;32m--> 623\u001b[0;31m         readable_objs = self.get_spectra_async(coordinates=coordinates,\n\u001b[0m\u001b[1;32m    624\u001b[0m                                                \u001b[0mradius\u001b[0m\u001b[0;34m=\u001b[0m\u001b[0mradius\u001b[0m\u001b[0;34m,\u001b[0m \u001b[0mmatches\u001b[0m\u001b[0;34m=\u001b[0m\u001b[0mmatches\u001b[0m\u001b[0;34m,\u001b[0m\u001b[0;34m\u001b[0m\u001b[0;34m\u001b[0m\u001b[0m\n\u001b[1;32m    625\u001b[0m                                                \u001b[0mplate\u001b[0m\u001b[0;34m=\u001b[0m\u001b[0mplate\u001b[0m\u001b[0;34m,\u001b[0m \u001b[0mfiberID\u001b[0m\u001b[0;34m=\u001b[0m\u001b[0mfiberID\u001b[0m\u001b[0;34m,\u001b[0m\u001b[0;34m\u001b[0m\u001b[0;34m\u001b[0m\u001b[0m\n",
      "\u001b[0;32m/opt/homebrew/lib/python3.9/site-packages/astroquery/sdss/core.py\u001b[0m in \u001b[0;36mget_spectra_async\u001b[0;34m(self, coordinates, radius, matches, plate, fiberID, mjd, timeout, get_query_payload, data_release, cache, show_progress)\u001b[0m\n\u001b[1;32m    575\u001b[0m                               timeout=timeout, cache=cache)\n\u001b[1;32m    576\u001b[0m \u001b[0;34m\u001b[0m\u001b[0m\n\u001b[0;32m--> 577\u001b[0;31m             \u001b[0mmatches\u001b[0m \u001b[0;34m=\u001b[0m \u001b[0mself\u001b[0m\u001b[0;34m.\u001b[0m\u001b[0m_parse_result\u001b[0m\u001b[0;34m(\u001b[0m\u001b[0mresult\u001b[0m\u001b[0;34m)\u001b[0m\u001b[0;34m\u001b[0m\u001b[0;34m\u001b[0m\u001b[0m\n\u001b[0m\u001b[1;32m    578\u001b[0m             \u001b[0;32mif\u001b[0m \u001b[0mmatches\u001b[0m \u001b[0;32mis\u001b[0m \u001b[0;32mNone\u001b[0m\u001b[0;34m:\u001b[0m\u001b[0;34m\u001b[0m\u001b[0;34m\u001b[0m\u001b[0m\n\u001b[1;32m    579\u001b[0m                 \u001b[0mwarnings\u001b[0m\u001b[0;34m.\u001b[0m\u001b[0mwarn\u001b[0m\u001b[0;34m(\u001b[0m\u001b[0;34m\"Query returned no results.\"\u001b[0m\u001b[0;34m,\u001b[0m \u001b[0mNoResultsWarning\u001b[0m\u001b[0;34m)\u001b[0m\u001b[0;34m\u001b[0m\u001b[0;34m\u001b[0m\u001b[0m\n",
      "\u001b[0;32m/opt/homebrew/lib/python3.9/site-packages/astroquery/sdss/core.py\u001b[0m in \u001b[0;36m_parse_result\u001b[0;34m(self, response, verbose)\u001b[0m\n\u001b[1;32m    872\u001b[0m         \u001b[0;32mif\u001b[0m \u001b[0mresponse\u001b[0m\u001b[0;34m.\u001b[0m\u001b[0mcontent\u001b[0m\u001b[0;34m.\u001b[0m\u001b[0mstartswith\u001b[0m\u001b[0;34m(\u001b[0m\u001b[0;34mb'#Table'\u001b[0m\u001b[0;34m)\u001b[0m\u001b[0;34m:\u001b[0m\u001b[0;34m\u001b[0m\u001b[0;34m\u001b[0m\u001b[0m\n\u001b[1;32m    873\u001b[0m             \u001b[0mskip_header\u001b[0m \u001b[0;34m=\u001b[0m \u001b[0;36m1\u001b[0m\u001b[0;34m\u001b[0m\u001b[0;34m\u001b[0m\u001b[0m\n\u001b[0;32m--> 874\u001b[0;31m         arr = np.atleast_1d(np.genfromtxt(io.BytesIO(response.content),\n\u001b[0m\u001b[1;32m    875\u001b[0m                                           \u001b[0mnames\u001b[0m\u001b[0;34m=\u001b[0m\u001b[0;32mTrue\u001b[0m\u001b[0;34m,\u001b[0m \u001b[0mdtype\u001b[0m\u001b[0;34m=\u001b[0m\u001b[0;32mNone\u001b[0m\u001b[0;34m,\u001b[0m\u001b[0;34m\u001b[0m\u001b[0;34m\u001b[0m\u001b[0m\n\u001b[1;32m    876\u001b[0m                                           \u001b[0mdelimiter\u001b[0m\u001b[0;34m=\u001b[0m\u001b[0;34m','\u001b[0m\u001b[0;34m,\u001b[0m \u001b[0mskip_header\u001b[0m\u001b[0;34m=\u001b[0m\u001b[0mskip_header\u001b[0m\u001b[0;34m,\u001b[0m\u001b[0;34m\u001b[0m\u001b[0;34m\u001b[0m\u001b[0m\n",
      "\u001b[0;32m/opt/homebrew/lib/python3.9/site-packages/numpy/lib/npyio.py\u001b[0m in \u001b[0;36mgenfromtxt\u001b[0;34m(fname, dtype, comments, delimiter, skip_header, skip_footer, converters, missing_values, filling_values, usecols, names, excludelist, deletechars, replace_space, autostrip, case_sensitive, defaultfmt, unpack, usemask, loose, invalid_raise, max_rows, encoding, like)\u001b[0m\n\u001b[1;32m   2122\u001b[0m             \u001b[0;31m# Raise an exception ?\u001b[0m\u001b[0;34m\u001b[0m\u001b[0;34m\u001b[0m\u001b[0m\n\u001b[1;32m   2123\u001b[0m             \u001b[0;32mif\u001b[0m \u001b[0minvalid_raise\u001b[0m\u001b[0;34m:\u001b[0m\u001b[0;34m\u001b[0m\u001b[0;34m\u001b[0m\u001b[0m\n\u001b[0;32m-> 2124\u001b[0;31m                 \u001b[0;32mraise\u001b[0m \u001b[0mValueError\u001b[0m\u001b[0;34m(\u001b[0m\u001b[0merrmsg\u001b[0m\u001b[0;34m)\u001b[0m\u001b[0;34m\u001b[0m\u001b[0;34m\u001b[0m\u001b[0m\n\u001b[0m\u001b[1;32m   2125\u001b[0m             \u001b[0;31m# Issue a warning ?\u001b[0m\u001b[0;34m\u001b[0m\u001b[0;34m\u001b[0m\u001b[0m\n\u001b[1;32m   2126\u001b[0m             \u001b[0;32melse\u001b[0m\u001b[0;34m:\u001b[0m\u001b[0;34m\u001b[0m\u001b[0;34m\u001b[0m\u001b[0m\n",
      "\u001b[0;31mValueError\u001b[0m: Some errors were detected !\n    Line #62 (got 4 columns instead of 1)\n    Line #124 (got 2 columns instead of 1)\n    Line #125 (got 2 columns instead of 1)\n    Line #131 (got 2 columns instead of 1)\n    Line #132 (got 3 columns instead of 1)\n    Line #133 (got 2 columns instead of 1)\n    Line #135 (got 4 columns instead of 1)\n    Line #136 (got 2 columns instead of 1)\n    Line #139 (got 2 columns instead of 1)"
     ]
    }
   ],
   "source": [
    "pos = coord.SkyCoord(RA + ' ' + Dec, frame='icrs')\n",
    "xid = SDSS.query_region(pos, spectro=True, data_release=12)\n",
    "\n",
    "sp = SDSS.get_spectra(matches=xid)\n",
    "\n",
    "print(np.shape(sp))\n",
    "\n",
    "for hdu in sp[0]:\n",
    "    print(hdu)\n",
    "\n",
    "print(type(sp))\n",
    "print(type(sp[0]))"
   ]
  },
  {
   "cell_type": "code",
   "execution_count": 10,
   "id": "1ad7b7cf",
   "metadata": {},
   "outputs": [
    {
     "data": {
      "text/plain": [
       "<SkyCoord (ICRS): (ra, dec) in deg\n",
       "    (139.49758333, 67.37741667)>"
      ]
     },
     "execution_count": 10,
     "metadata": {},
     "output_type": "execute_result"
    }
   ],
   "source": [
    "pos"
   ]
  },
  {
   "cell_type": "code",
   "execution_count": 11,
   "id": "c0c98611",
   "metadata": {
    "collapsed": true
   },
   "outputs": [
    {
     "ename": "NameError",
     "evalue": "name 'sp' is not defined",
     "output_type": "error",
     "traceback": [
      "\u001b[0;31m---------------------------------------------------------------------------\u001b[0m",
      "\u001b[0;31mNameError\u001b[0m                                 Traceback (most recent call last)",
      "\u001b[0;32m/var/folders/jn/p0g0f05x64b5yxz9ppdkcswh0000gn/T/ipykernel_61131/596093655.py\u001b[0m in \u001b[0;36m<module>\u001b[0;34m\u001b[0m\n\u001b[0;32m----> 1\u001b[0;31m \u001b[0msp\u001b[0m\u001b[0;34m[\u001b[0m\u001b[0;36m0\u001b[0m\u001b[0;34m]\u001b[0m\u001b[0;34m.\u001b[0m\u001b[0minfo\u001b[0m\u001b[0;34m(\u001b[0m\u001b[0;34m)\u001b[0m\u001b[0;34m\u001b[0m\u001b[0;34m\u001b[0m\u001b[0m\n\u001b[0m",
      "\u001b[0;31mNameError\u001b[0m: name 'sp' is not defined"
     ]
    }
   ],
   "source": [
    "sp[0].info()"
   ]
  },
  {
   "cell_type": "code",
   "execution_count": 12,
   "id": "9d8cda54",
   "metadata": {
    "collapsed": true
   },
   "outputs": [
    {
     "ename": "NameError",
     "evalue": "name 'sp' is not defined",
     "output_type": "error",
     "traceback": [
      "\u001b[0;31m---------------------------------------------------------------------------\u001b[0m",
      "\u001b[0;31mNameError\u001b[0m                                 Traceback (most recent call last)",
      "\u001b[0;32m/var/folders/jn/p0g0f05x64b5yxz9ppdkcswh0000gn/T/ipykernel_61131/770388059.py\u001b[0m in \u001b[0;36m<module>\u001b[0;34m\u001b[0m\n\u001b[0;32m----> 1\u001b[0;31m \u001b[0msp\u001b[0m\u001b[0;34m[\u001b[0m\u001b[0;36m0\u001b[0m\u001b[0;34m]\u001b[0m\u001b[0;34m[\u001b[0m\u001b[0;36m0\u001b[0m\u001b[0;34m]\u001b[0m\u001b[0;34m.\u001b[0m\u001b[0mheader\u001b[0m\u001b[0;34m\u001b[0m\u001b[0;34m\u001b[0m\u001b[0m\n\u001b[0m",
      "\u001b[0;31mNameError\u001b[0m: name 'sp' is not defined"
     ]
    }
   ],
   "source": [
    "sp[0][0].header"
   ]
  },
  {
   "cell_type": "code",
   "execution_count": null,
   "id": "76b15de1",
   "metadata": {
    "scrolled": false
   },
   "outputs": [],
   "source": [
    "df = pd.DataFrame(sp[0][1].data)\n",
    "df"
   ]
  },
  {
   "cell_type": "code",
   "execution_count": null,
   "id": "d4fca0b0",
   "metadata": {},
   "outputs": [],
   "source": [
    "plt.figure(figsize=(8,5))\n",
    "plt.plot(10**df['loglam'], df['flux'])"
   ]
  },
  {
   "cell_type": "code",
   "execution_count": null,
   "id": "5c127973",
   "metadata": {},
   "outputs": [],
   "source": []
  },
  {
   "cell_type": "code",
   "execution_count": 21,
   "id": "2e71f3ba",
   "metadata": {},
   "outputs": [],
   "source": [
    "width = u.Quantity(0.1, u.deg)\n",
    "height = u.Quantity(0.1, u.deg)"
   ]
  },
  {
   "cell_type": "code",
   "execution_count": 22,
   "id": "5dd75a50",
   "metadata": {},
   "outputs": [],
   "source": [
    "from astroquery.gaia import Gaia"
   ]
  },
  {
   "cell_type": "code",
   "execution_count": 23,
   "id": "b13a4ee6",
   "metadata": {},
   "outputs": [
    {
     "name": "stdout",
     "output_type": "stream",
     "text": [
      "Help on method query_object in module astroquery.gaia.core:\n",
      "\n",
      "query_object(coordinate, radius=None, width=None, height=None, verbose=False, columns=[]) method of astroquery.gaia.core.GaiaClass instance\n",
      "    Launches a job\n",
      "    TAP & TAP+\n",
      "    \n",
      "    Parameters\n",
      "    ----------\n",
      "    coordinate : astropy.coordinates, mandatory\n",
      "        coordinates center point\n",
      "    radius : astropy.units if no 'width'/'height' are provided\n",
      "        radius (deg)\n",
      "    width : astropy.units if no 'radius' is provided\n",
      "        box width\n",
      "    height : astropy.units if no 'radius' is provided\n",
      "        box height\n",
      "    verbose : bool, optional, default 'False'\n",
      "        flag to display information about the process\n",
      "    columns: list, optional, default []\n",
      "        if empty, all columns will be selected\n",
      "    \n",
      "    Returns\n",
      "    -------\n",
      "    The job results (astropy.table).\n",
      "\n"
     ]
    }
   ],
   "source": [
    "help(Gaia.query_object)"
   ]
  },
  {
   "cell_type": "code",
   "execution_count": 25,
   "id": "cc8ce6a5",
   "metadata": {},
   "outputs": [
    {
     "data": {
      "text/html": [
       "<div><i>Table length=50</i>\n",
       "<table id=\"table5270596480\" class=\"table-striped table-bordered table-condensed\">\n",
       "<thead><tr><th>solution_id</th><th>DESIGNATION</th><th>source_id</th><th>random_index</th><th>ref_epoch</th><th>ra</th><th>ra_error</th><th>dec</th><th>dec_error</th><th>parallax</th><th>parallax_error</th><th>parallax_over_error</th><th>pmra</th><th>pmra_error</th><th>pmdec</th><th>pmdec_error</th><th>ra_dec_corr</th><th>ra_parallax_corr</th><th>ra_pmra_corr</th><th>ra_pmdec_corr</th><th>dec_parallax_corr</th><th>dec_pmra_corr</th><th>dec_pmdec_corr</th><th>parallax_pmra_corr</th><th>parallax_pmdec_corr</th><th>pmra_pmdec_corr</th><th>astrometric_n_obs_al</th><th>astrometric_n_obs_ac</th><th>astrometric_n_good_obs_al</th><th>astrometric_n_bad_obs_al</th><th>astrometric_gof_al</th><th>astrometric_chi2_al</th><th>astrometric_excess_noise</th><th>astrometric_excess_noise_sig</th><th>astrometric_params_solved</th><th>astrometric_primary_flag</th><th>astrometric_weight_al</th><th>astrometric_pseudo_colour</th><th>astrometric_pseudo_colour_error</th><th>mean_varpi_factor_al</th><th>astrometric_matched_observations</th><th>visibility_periods_used</th><th>astrometric_sigma5d_max</th><th>frame_rotator_object_type</th><th>matched_observations</th><th>duplicated_source</th><th>phot_g_n_obs</th><th>phot_g_mean_flux</th><th>phot_g_mean_flux_error</th><th>phot_g_mean_flux_over_error</th><th>phot_g_mean_mag</th><th>phot_bp_n_obs</th><th>phot_bp_mean_flux</th><th>phot_bp_mean_flux_error</th><th>phot_bp_mean_flux_over_error</th><th>phot_bp_mean_mag</th><th>phot_rp_n_obs</th><th>phot_rp_mean_flux</th><th>phot_rp_mean_flux_error</th><th>phot_rp_mean_flux_over_error</th><th>phot_rp_mean_mag</th><th>phot_bp_rp_excess_factor</th><th>phot_proc_mode</th><th>bp_rp</th><th>bp_g</th><th>g_rp</th><th>radial_velocity</th><th>radial_velocity_error</th><th>rv_nb_transits</th><th>rv_template_teff</th><th>rv_template_logg</th><th>rv_template_fe_h</th><th>phot_variable_flag</th><th>l</th><th>b</th><th>ecl_lon</th><th>ecl_lat</th><th>priam_flags</th><th>teff_val</th><th>teff_percentile_lower</th><th>teff_percentile_upper</th><th>a_g_val</th><th>a_g_percentile_lower</th><th>a_g_percentile_upper</th><th>e_bp_min_rp_val</th><th>e_bp_min_rp_percentile_lower</th><th>e_bp_min_rp_percentile_upper</th><th>flame_flags</th><th>radius_val</th><th>radius_percentile_lower</th><th>radius_percentile_upper</th><th>lum_val</th><th>lum_percentile_lower</th><th>lum_percentile_upper</th><th>datalink_url</th><th>dist</th></tr></thead>\n",
       "<thead><tr><th></th><th></th><th></th><th></th><th>yr</th><th>deg</th><th>mas</th><th>deg</th><th>mas</th><th>mas</th><th>mas</th><th></th><th>mas / yr</th><th>mas / yr</th><th>mas / yr</th><th>mas / yr</th><th></th><th></th><th></th><th></th><th></th><th></th><th></th><th></th><th></th><th></th><th></th><th></th><th></th><th></th><th></th><th></th><th>mas</th><th></th><th></th><th></th><th>1 / mas2</th><th>1 / um</th><th>1 / um</th><th></th><th></th><th></th><th>mas</th><th></th><th></th><th></th><th></th><th>electron / s</th><th>electron / s</th><th></th><th>mag</th><th></th><th>electron / s</th><th>electron / s</th><th></th><th>mag</th><th></th><th>electron / s</th><th>electron / s</th><th></th><th>mag</th><th></th><th></th><th>mag</th><th>mag</th><th>mag</th><th>km / s</th><th>km / s</th><th></th><th>K</th><th>log(cm.s**-2)</th><th>dex</th><th></th><th>deg</th><th>deg</th><th>deg</th><th>deg</th><th></th><th>K</th><th>K</th><th>K</th><th>mag</th><th>mag</th><th>mag</th><th>mag</th><th>mag</th><th>mag</th><th></th><th>solRad</th><th>solRad</th><th>solRad</th><th>solLum</th><th>solLum</th><th>solLum</th><th></th><th></th></tr></thead>\n",
       "<thead><tr><th>int64</th><th>object</th><th>int64</th><th>int64</th><th>float64</th><th>float64</th><th>float64</th><th>float64</th><th>float64</th><th>float64</th><th>float64</th><th>float32</th><th>float64</th><th>float64</th><th>float64</th><th>float64</th><th>float32</th><th>float32</th><th>float32</th><th>float32</th><th>float32</th><th>float32</th><th>float32</th><th>float32</th><th>float32</th><th>float32</th><th>int32</th><th>int32</th><th>int32</th><th>int32</th><th>float32</th><th>float32</th><th>float64</th><th>float64</th><th>int16</th><th>bool</th><th>float32</th><th>float64</th><th>float64</th><th>float32</th><th>int16</th><th>int16</th><th>float32</th><th>int32</th><th>int16</th><th>bool</th><th>int32</th><th>float64</th><th>float64</th><th>float32</th><th>float32</th><th>int32</th><th>float64</th><th>float64</th><th>float32</th><th>float32</th><th>int32</th><th>float64</th><th>float64</th><th>float32</th><th>float32</th><th>float32</th><th>int16</th><th>float32</th><th>float32</th><th>float32</th><th>float64</th><th>float64</th><th>int32</th><th>float32</th><th>float32</th><th>float32</th><th>object</th><th>float64</th><th>float64</th><th>float64</th><th>float64</th><th>int64</th><th>float32</th><th>float32</th><th>float32</th><th>float32</th><th>float32</th><th>float32</th><th>float32</th><th>float32</th><th>float32</th><th>int64</th><th>float32</th><th>float32</th><th>float32</th><th>float32</th><th>float32</th><th>float32</th><th>object</th><th>float64</th></tr></thead>\n",
       "<tr><td>1635721458409799680</td><td>Gaia DR2 1069326945513133952</td><td>1069326945513133952</td><td>1097136429</td><td>2015.5</td><td>139.49781049432562</td><td>0.08491450455602564</td><td>67.37732283048463</td><td>0.16507135580153232</td><td>-0.07562176185438302</td><td>0.18612259822938465</td><td>-0.4063008</td><td>-0.02346397018692159</td><td>0.1758066676070117</td><td>-1.1789967830528665</td><td>0.26832831046306255</td><td>0.2380146</td><td>-0.1293306</td><td>-0.14841387</td><td>-0.050155267</td><td>-0.6158039</td><td>-0.29295778</td><td>-0.3106325</td><td>0.43259045</td><td>0.1084062</td><td>0.21618308</td><td>286</td><td>0</td><td>286</td><td>0</td><td>1.8163313</td><td>325.55978</td><td>0.31953351377536077</td><td>0.9818133196691774</td><td>31</td><td>False</td><td>0.7631069</td><td>1.7697334010829378</td><td>0.0271584516092131</td><td>-0.04509729</td><td>32</td><td>16</td><td>0.25675896</td><td>0</td><td>35</td><td>False</td><td>313</td><td>1114.1753519690155</td><td>1.590598094835557</td><td>700.4757</td><td>18.070982</td><td>33</td><td>827.0805041950945</td><td>8.432551868515697</td><td>98.08188</td><td>18.057518</td><td>31</td><td>493.9187583045139</td><td>7.9532274585434575</td><td>62.102932</td><td>18.02778</td><td>1.1856296</td><td>0</td><td>0.029737473</td><td>-0.013463974</td><td>0.043201447</td><td>--</td><td>--</td><td>0</td><td>--</td><td>--</td><td>--</td><td>NOT_AVAILABLE</td><td>146.22781286707536</td><td>38.69664693836425</td><td>116.12503564111515</td><td>48.37543244252124</td><td>--</td><td>--</td><td>--</td><td>--</td><td>--</td><td>--</td><td>--</td><td>--</td><td>--</td><td>--</td><td>--</td><td>--</td><td>--</td><td>--</td><td>--</td><td>--</td><td>--</td><td>https://gea.esac.esa.int/data-server/datalink/links?ID=Gaia+DR2+1069326945513133952</td><td>0.00012418505986439715</td></tr>\n",
       "<tr><td>1635721458409799680</td><td>Gaia DR2 1069326842433919104</td><td>1069326842433919104</td><td>1472881477</td><td>2015.5</td><td>139.48466216424623</td><td>0.028523114439270053</td><td>67.3712839012167</td><td>0.04587031285617041</td><td>1.4171053563962868</td><td>0.050978384800835594</td><td>27.79816</td><td>0.2260708361330066</td><td>0.059448967014632655</td><td>-4.475061216331084</td><td>0.09123384286884069</td><td>0.30598715</td><td>-0.12001345</td><td>-0.2364262</td><td>-0.16705944</td><td>-0.42740875</td><td>-0.28765061</td><td>-0.14215498</td><td>0.34656698</td><td>-0.029638276</td><td>0.19705205</td><td>282</td><td>0</td><td>280</td><td>2</td><td>0.1335704</td><td>277.4732</td><td>0.0</td><td>0.0</td><td>31</td><td>False</td><td>7.422827</td><td>1.4580607469571543</td><td>0.008657208284341147</td><td>-0.043200362</td><td>32</td><td>17</td><td>0.08968643</td><td>0</td><td>35</td><td>False</td><td>306</td><td>6552.8213787756695</td><td>3.551636137506595</td><td>1845.0149</td><td>16.147295</td><td>31</td><td>2611.772981774248</td><td>11.70549557800026</td><td>223.12366</td><td>16.80905</td><td>30</td><td>5727.038622352868</td><td>10.11675972380613</td><td>566.0942</td><td>15.367095</td><td>1.2725528</td><td>0</td><td>1.4419546</td><td>0.6617546</td><td>0.7802</td><td>--</td><td>--</td><td>0</td><td>--</td><td>--</td><td>--</td><td>NOT_AVAILABLE</td><td>146.23750684837694</td><td>38.69445346160575</td><td>116.12239473919725</td><td>48.36775278123281</td><td>100001</td><td>4702.027</td><td>4431.8804</td><td>4972.3335</td><td>0.1445</td><td>0.0423</td><td>0.2848</td><td>0.062</td><td>0.0206</td><td>0.1194</td><td>200111</td><td>0.5911974</td><td>0.52866703</td><td>0.6654672</td><td>0.1539218</td><td>0.1417885</td><td>0.1660551</td><td>https://gea.esac.esa.int/data-server/datalink/links?ID=Gaia+DR2+1069326842433919104</td><td>0.007890104614532437</td></tr>\n",
       "<tr><td>1635721458409799680</td><td>Gaia DR2 1069326906857463552</td><td>1069326906857463552</td><td>271171451</td><td>2015.5</td><td>139.55028053442328</td><td>0.13502656816100556</td><td>67.3786239514191</td><td>0.25234475324422373</td><td>0.7835360975070418</td><td>0.288986885098866</td><td>2.7113206</td><td>-7.828050715065422</td><td>0.27120907024812274</td><td>-12.277573792639108</td><td>0.40235877680042</td><td>0.28745794</td><td>-0.19822457</td><td>-0.18267447</td><td>-0.05767601</td><td>-0.6233936</td><td>-0.27555606</td><td>-0.23316336</td><td>0.38321257</td><td>0.07276241</td><td>0.25321588</td><td>284</td><td>0</td><td>282</td><td>2</td><td>0.6222208</td><td>291.21515</td><td>0.0</td><td>0.0</td><td>31</td><td>False</td><td>0.31495</td><td>1.3315747806231708</td><td>0.04135754094634703</td><td>-0.05727837</td><td>32</td><td>16</td><td>0.38046747</td><td>0</td><td>35</td><td>False</td><td>306</td><td>529.315791306147</td><td>1.5754664091198645</td><td>335.97403</td><td>18.879078</td><td>30</td><td>150.80506993789058</td><td>7.707772016547006</td><td>19.565325</td><td>19.905348</td><td>30</td><td>612.0896813453375</td><td>9.159362608574972</td><td>66.82667</td><td>17.794882</td><td>1.4412847</td><td>0</td><td>2.110466</td><td>1.0262699</td><td>1.0841961</td><td>--</td><td>--</td><td>0</td><td>--</td><td>--</td><td>--</td><td>NOT_AVAILABLE</td><td>146.21584270270083</td><td>38.71458499005296</td><td>116.15119394516734</td><td>48.385785301687946</td><td>--</td><td>--</td><td>--</td><td>--</td><td>--</td><td>--</td><td>--</td><td>--</td><td>--</td><td>--</td><td>--</td><td>--</td><td>--</td><td>--</td><td>--</td><td>--</td><td>--</td><td>https://gea.esac.esa.int/data-server/datalink/links?ID=Gaia+DR2+1069326906857463552</td><td>0.02030611882100404</td></tr>\n",
       "<tr><td>1635721458409799680</td><td>Gaia DR2 1069326773714441728</td><td>1069326773714441728</td><td>258125426</td><td>2015.5</td><td>139.49255870617384</td><td>0.04291301150237568</td><td>67.35407946146566</td><td>0.07305128553861542</td><td>2.36325899297386</td><td>0.08543502400607837</td><td>27.661478</td><td>-16.506563019437806</td><td>0.09016647053897797</td><td>1.2313906550802018</td><td>0.141067092256338</td><td>0.33785114</td><td>-0.2264407</td><td>-0.18634163</td><td>-0.1493888</td><td>-0.4544674</td><td>-0.30831555</td><td>-0.1220736</td><td>0.40849584</td><td>-0.040347416</td><td>0.19731443</td><td>285</td><td>0</td><td>285</td><td>0</td><td>3.0064447</td><td>356.5576</td><td>0.2303357289183725</td><td>2.169266576140325</td><td>31</td><td>False</td><td>3.1511767</td><td>1.3709144722196611</td><td>0.014412247624095488</td><td>-0.021246472</td><td>32</td><td>17</td><td>0.1312</td><td>0</td><td>35</td><td>False</td><td>308</td><td>3565.582432472895</td><td>2.5609830833498077</td><td>1392.271</td><td>16.808039</td><td>34</td><td>963.8352832137921</td><td>8.653403793753732</td><td>111.38222</td><td>17.89138</td><td>33</td><td>3989.2669523073864</td><td>14.681129398811168</td><td>271.72754</td><td>15.759687</td><td>1.3891425</td><td>0</td><td>2.131693</td><td>1.0833416</td><td>1.0483513</td><td>--</td><td>--</td><td>0</td><td>--</td><td>--</td><td>--</td><td>NOT_AVAILABLE</td><td>146.25611147881793</td><td>38.70416978826967</td><td>116.13825314764799</td><td>48.353817087015315</td><td>100001</td><td>3897.9824</td><td>3576.0</td><td>4414.13</td><td>0.1987</td><td>0.0219</td><td>0.5305</td><td>0.1395</td><td>0.0109</td><td>0.2871</td><td>--</td><td>--</td><td>--</td><td>--</td><td>--</td><td>--</td><td>--</td><td>https://gea.esac.esa.int/data-server/datalink/links?ID=Gaia+DR2+1069326773714441728</td><td>0.023411695001841357</td></tr>\n",
       "<tr><td>1635721458409799680</td><td>Gaia DR2 1069326769419046272</td><td>1069326769419046272</td><td>623153191</td><td>2015.5</td><td>139.50390047634372</td><td>1.9173791254928585</td><td>67.35136208733039</td><td>3.4650440586163693</td><td>--</td><td>--</td><td>--</td><td>--</td><td>--</td><td>--</td><td>--</td><td>0.8156945</td><td>--</td><td>--</td><td>--</td><td>--</td><td>--</td><td>--</td><td>--</td><td>--</td><td>--</td><td>111</td><td>0</td><td>111</td><td>0</td><td>2.1632118</td><td>139.91576</td><td>0.0</td><td>0.0</td><td>3</td><td>False</td><td>0.018858282</td><td>--</td><td>--</td><td>-0.09290518</td><td>13</td><td>9</td><td>7.150566</td><td>0</td><td>15</td><td>False</td><td>128</td><td>84.14805123308943</td><td>1.1638817372483161</td><td>72.299484</td><td>20.875755</td><td>12</td><td>36.26192122678191</td><td>5.981838290304806</td><td>6.062003</td><td>21.45276</td><td>15</td><td>118.969903184396</td><td>7.66709994570494</td><td>15.516936</td><td>19.573328</td><td>1.8447465</td><td>0</td><td>1.8794327</td><td>0.5770054</td><td>1.3024273</td><td>--</td><td>--</td><td>0</td><td>--</td><td>--</td><td>--</td><td>NOT_AVAILABLE</td><td>146.25704212678056</td><td>38.709261878373155</td><td>116.14596603790126</td><td>48.35338526276751</td><td>--</td><td>--</td><td>--</td><td>--</td><td>--</td><td>--</td><td>--</td><td>--</td><td>--</td><td>--</td><td>--</td><td>--</td><td>--</td><td>--</td><td>--</td><td>--</td><td>--</td><td>https://gea.esac.esa.int/data-server/datalink/links?ID=Gaia+DR2+1069326769419046272</td><td>0.02616227401634749</td></tr>\n",
       "<tr><td>1635721458409799680</td><td>Gaia DR2 1069327357829992192</td><td>1069327357829992192</td><td>655453260</td><td>2015.5</td><td>139.54613661916335</td><td>0.21704663746941216</td><td>67.40010511335349</td><td>0.45467272443972523</td><td>-0.493169690706723</td><td>0.4985952497263657</td><td>-0.98911834</td><td>2.8909361220382137</td><td>0.4299841754434587</td><td>-2.321873997132377</td><td>0.6806481189592312</td><td>0.37882838</td><td>-0.2649265</td><td>-0.14153196</td><td>-0.0448693</td><td>-0.63885164</td><td>-0.24354482</td><td>-0.29727814</td><td>0.35985428</td><td>0.059730917</td><td>0.24813966</td><td>277</td><td>0</td><td>272</td><td>5</td><td>1.4814923</td><td>301.99475</td><td>0.2598248288596935</td><td>0.10929312311766663</td><td>31</td><td>False</td><td>0.1296065</td><td>1.6153828419913043</td><td>0.06899589880023531</td><td>-0.023691442</td><td>31</td><td>15</td><td>0.6533951</td><td>0</td><td>34</td><td>False</td><td>298</td><td>296.9947254976051</td><td>1.208384626849921</td><td>245.7783</td><td>19.506495</td><td>34</td><td>146.2507027335835</td><td>5.095586133550943</td><td>28.701448</td><td>19.938643</td><td>33</td><td>239.28909120943382</td><td>6.636667245041249</td><td>36.05561</td><td>18.814613</td><td>1.2981368</td><td>0</td><td>1.1240292</td><td>0.43214798</td><td>0.6918812</td><td>--</td><td>--</td><td>0</td><td>--</td><td>--</td><td>--</td><td>NOT_AVAILABLE</td><td>146.19149125418846</td><td>38.70444105321258</td><td>116.1343104589827</td><td>48.40417832775289</td><td>--</td><td>--</td><td>--</td><td>--</td><td>--</td><td>--</td><td>--</td><td>--</td><td>--</td><td>--</td><td>--</td><td>--</td><td>--</td><td>--</td><td>--</td><td>--</td><td>--</td><td>https://gea.esac.esa.int/data-server/datalink/links?ID=Gaia+DR2+1069327357829992192</td><td>0.029385229389173588</td></tr>\n",
       "<tr><td>...</td><td>...</td><td>...</td><td>...</td><td>...</td><td>...</td><td>...</td><td>...</td><td>...</td><td>...</td><td>...</td><td>...</td><td>...</td><td>...</td><td>...</td><td>...</td><td>...</td><td>...</td><td>...</td><td>...</td><td>...</td><td>...</td><td>...</td><td>...</td><td>...</td><td>...</td><td>...</td><td>...</td><td>...</td><td>...</td><td>...</td><td>...</td><td>...</td><td>...</td><td>...</td><td>...</td><td>...</td><td>...</td><td>...</td><td>...</td><td>...</td><td>...</td><td>...</td><td>...</td><td>...</td><td>...</td><td>...</td><td>...</td><td>...</td><td>...</td><td>...</td><td>...</td><td>...</td><td>...</td><td>...</td><td>...</td><td>...</td><td>...</td><td>...</td><td>...</td><td>...</td><td>...</td><td>...</td><td>...</td><td>...</td><td>...</td><td>...</td><td>...</td><td>...</td><td>...</td><td>...</td><td>...</td><td>...</td><td>...</td><td>...</td><td>...</td><td>...</td><td>...</td><td>...</td><td>...</td><td>...</td><td>...</td><td>...</td><td>...</td><td>...</td><td>...</td><td>...</td><td>...</td><td>...</td><td>...</td><td>...</td><td>...</td><td>...</td><td>...</td><td>...</td><td>...</td></tr>\n",
       "<tr><td>1635721458409799680</td><td>Gaia DR2 1069325227526217984</td><td>1069325227526217984</td><td>67914719</td><td>2015.5</td><td>139.42583716215685</td><td>0.18356634745382655</td><td>67.3202894191532</td><td>0.269229430974127</td><td>2.036853829069942</td><td>0.3348212487226418</td><td>6.083407</td><td>5.259301297636524</td><td>0.38791726014667655</td><td>-10.670514498813821</td><td>0.5691014387541152</td><td>0.3312897</td><td>-0.22622451</td><td>-0.14361455</td><td>-0.17550242</td><td>-0.42557347</td><td>-0.28125417</td><td>-0.06141694</td><td>0.347233</td><td>0.011043199</td><td>0.26196784</td><td>301</td><td>0</td><td>300</td><td>1</td><td>-0.65368587</td><td>278.76273</td><td>0.0</td><td>0.0</td><td>31</td><td>False</td><td>0.17733191</td><td>1.2292739135420425</td><td>0.06201834686088019</td><td>-0.04592523</td><td>34</td><td>17</td><td>0.51662076</td><td>0</td><td>38</td><td>False</td><td>326</td><td>333.0180348299815</td><td>0.9844552886110396</td><td>338.27646</td><td>19.382196</td><td>29</td><td>83.01140494365615</td><td>5.3725816131529704</td><td>15.450934</td><td>20.553543</td><td>32</td><td>437.25891672693285</td><td>9.152772777266152</td><td>47.773384</td><td>18.160074</td><td>1.5622888</td><td>0</td><td>2.3934689</td><td>1.1713467</td><td>1.2221222</td><td>--</td><td>--</td><td>0</td><td>--</td><td>--</td><td>--</td><td>NOT_AVAILABLE</td><td>146.3090014614742</td><td>38.694227045144316</td><td>116.12692282782754</td><td>48.31203257141636</td><td>--</td><td>--</td><td>--</td><td>--</td><td>--</td><td>--</td><td>--</td><td>--</td><td>--</td><td>--</td><td>--</td><td>--</td><td>--</td><td>--</td><td>--</td><td>--</td><td>--</td><td>https://gea.esac.esa.int/data-server/datalink/links?ID=Gaia+DR2+1069325227526217984</td><td>0.06345359887022604</td></tr>\n",
       "<tr><td>1635721458409799680</td><td>Gaia DR2 1069325846001554688</td><td>1069325846001554688</td><td>1244205641</td><td>2015.5</td><td>139.60468613532592</td><td>0.4603414584022754</td><td>67.32908741267407</td><td>0.8486778863215984</td><td>-0.36086909390371863</td><td>1.0010585845075237</td><td>-0.3604875</td><td>-0.3178240774137344</td><td>0.9456884884045387</td><td>-1.875232619981908</td><td>1.2955185468249166</td><td>0.36086833</td><td>-0.3256036</td><td>-0.4606814</td><td>-0.099412374</td><td>-0.65331674</td><td>-0.27786675</td><td>-0.31757084</td><td>0.32272765</td><td>0.029350333</td><td>0.22337663</td><td>260</td><td>0</td><td>260</td><td>0</td><td>0.005898805</td><td>254.46692</td><td>0.0</td><td>0.0</td><td>31</td><td>False</td><td>0.036610857</td><td>1.970740357653738</td><td>0.14868942621162037</td><td>-0.0059583695</td><td>31</td><td>16</td><td>1.2652401</td><td>0</td><td>34</td><td>False</td><td>284</td><td>127.09957464845196</td><td>1.0499173866712548</td><td>121.05674</td><td>20.428005</td><td>29</td><td>108.77339831562838</td><td>9.19952782421579</td><td>11.823802</td><td>20.260082</td><td>33</td><td>97.0317866089474</td><td>7.1949767012673</td><td>13.486046</td><td>19.794636</td><td>1.6192437</td><td>0</td><td>0.46544647</td><td>-0.16792297</td><td>0.63336945</td><td>--</td><td>--</td><td>0</td><td>--</td><td>--</td><td>--</td><td>NOT_AVAILABLE</td><td>146.26305834763562</td><td>38.75377915279468</td><td>116.21324886251683</td><td>48.35124306387786</td><td>--</td><td>--</td><td>--</td><td>--</td><td>--</td><td>--</td><td>--</td><td>--</td><td>--</td><td>--</td><td>--</td><td>--</td><td>--</td><td>--</td><td>--</td><td>--</td><td>--</td><td>https://gea.esac.esa.int/data-server/datalink/links?ID=Gaia+DR2+1069325846001554688</td><td>0.06352868462652314</td></tr>\n",
       "<tr><td>1635721458409799680</td><td>Gaia DR2 1069328590484680960</td><td>1069328590484680960</td><td>1452444396</td><td>2015.5</td><td>139.33218473678355</td><td>0.30512737467726125</td><td>67.37650969115866</td><td>0.44124576327482834</td><td>0.8724336856248587</td><td>0.5593870677235904</td><td>1.5596243</td><td>1.4676003713494201</td><td>0.6483848100811738</td><td>0.0035621400175128845</td><td>0.9090311808625763</td><td>0.23488425</td><td>-0.10457355</td><td>0.08206831</td><td>-0.049800843</td><td>-0.32879215</td><td>-0.18005736</td><td>-0.055010978</td><td>0.4459771</td><td>-0.016997974</td><td>0.1680021</td><td>270</td><td>0</td><td>268</td><td>2</td><td>4.1871357</td><td>370.35474</td><td>1.893050248471005</td><td>3.6096757865010294</td><td>31</td><td>False</td><td>0.06643844</td><td>1.4969818752495618</td><td>0.09713782753834889</td><td>-0.045090068</td><td>31</td><td>16</td><td>0.8095797</td><td>0</td><td>35</td><td>True</td><td>293</td><td>217.24610328488296</td><td>1.033195505933502</td><td>210.2662</td><td>19.845985</td><td>29</td><td>75.24992494122573</td><td>6.390318299740077</td><td>11.775615</td><td>20.660124</td><td>31</td><td>252.06946891935692</td><td>8.139382679492677</td><td>30.969114</td><td>18.75812</td><td>1.5066756</td><td>0</td><td>1.9020042</td><td>0.8141384</td><td>1.0878658</td><td>--</td><td>--</td><td>0</td><td>--</td><td>--</td><td>--</td><td>NOT_AVAILABLE</td><td>146.2615706063575</td><td>38.63863824454311</td><td>116.04018894448396</td><td>48.34574203740402</td><td>--</td><td>--</td><td>--</td><td>--</td><td>--</td><td>--</td><td>--</td><td>--</td><td>--</td><td>--</td><td>--</td><td>--</td><td>--</td><td>--</td><td>--</td><td>--</td><td>--</td><td>https://gea.esac.esa.int/data-server/datalink/links?ID=Gaia+DR2+1069328590484680960</td><td>0.06362975376706119</td></tr>\n",
       "<tr><td>1635721458409799680</td><td>Gaia DR2 1069326254022987648</td><td>1069326254022987648</td><td>654185948</td><td>2015.5</td><td>139.63819671318012</td><td>15.819247942433018</td><td>67.34315359136237</td><td>39.09375789629581</td><td>--</td><td>--</td><td>--</td><td>--</td><td>--</td><td>--</td><td>--</td><td>0.9944581</td><td>--</td><td>--</td><td>--</td><td>--</td><td>--</td><td>--</td><td>--</td><td>--</td><td>--</td><td>53</td><td>0</td><td>52</td><td>1</td><td>-0.7444435</td><td>39.548336</td><td>0.0</td><td>0.0</td><td>3</td><td>False</td><td>0.016277019</td><td>--</td><td>--</td><td>-0.061560597</td><td>6</td><td>4</td><td>746.81995</td><td>0</td><td>8</td><td>False</td><td>71</td><td>68.61470782464397</td><td>1.3562981126540197</td><td>50.589695</td><td>21.097322</td><td>0</td><td>--</td><td>--</td><td>--</td><td>--</td><td>0</td><td>--</td><td>--</td><td>--</td><td>--</td><td>--</td><td>0</td><td>--</td><td>--</td><td>--</td><td>--</td><td>--</td><td>0</td><td>--</td><td>--</td><td>--</td><td>NOT_AVAILABLE</td><td>146.23985981856322</td><td>38.75988853000865</td><td>116.22088925432405</td><td>48.369650037444174</td><td>--</td><td>--</td><td>--</td><td>--</td><td>--</td><td>--</td><td>--</td><td>--</td><td>--</td><td>--</td><td>--</td><td>--</td><td>--</td><td>--</td><td>--</td><td>--</td><td>--</td><td>https://gea.esac.esa.int/data-server/datalink/links?ID=Gaia+DR2+1069326254022987648</td><td>0.06405704716657189</td></tr>\n",
       "<tr><td>1635721458409799680</td><td>Gaia DR2 1069324467316567808</td><td>1069324467316567808</td><td>703370212</td><td>2015.5</td><td>139.44968771451596</td><td>0.7963341255651575</td><td>67.31593882255248</td><td>1.5956288317095808</td><td>-0.37929113467109155</td><td>2.057434354756113</td><td>-0.18435152</td><td>-0.3296123110166942</td><td>1.8761180560190047</td><td>-9.548401280537687</td><td>3.023352774125388</td><td>0.44359282</td><td>-0.3803975</td><td>-0.24633978</td><td>-0.33244723</td><td>-0.7125473</td><td>-0.42170855</td><td>-0.1870789</td><td>0.32778203</td><td>0.2382052</td><td>0.031335607</td><td>126</td><td>0</td><td>126</td><td>0</td><td>0.7483192</td><td>132.30959</td><td>0.0</td><td>0.0</td><td>31</td><td>False</td><td>0.024467278</td><td>1.5159461295049401</td><td>0.27012613723367074</td><td>-0.06138047</td><td>15</td><td>9</td><td>2.7630818</td><td>0</td><td>18</td><td>False</td><td>144</td><td>88.266045227391</td><td>1.0105319406922098</td><td>87.34612</td><td>20.823881</td><td>13</td><td>42.272124203130765</td><td>7.493423521431981</td><td>5.6412296</td><td>21.286253</td><td>15</td><td>130.44224605924987</td><td>10.577551569241635</td><td>12.331988</td><td>19.473373</td><td>1.9567475</td><td>0</td><td>1.8128796</td><td>0.46237183</td><td>1.3505077</td><td>--</td><td>--</td><td>0</td><td>--</td><td>--</td><td>--</td><td>NOT_AVAILABLE</td><td>146.30937247587602</td><td>38.70439713765135</td><td>116.14221394879357</td><td>48.31233594294366</td><td>--</td><td>--</td><td>--</td><td>--</td><td>--</td><td>--</td><td>--</td><td>--</td><td>--</td><td>--</td><td>--</td><td>--</td><td>--</td><td>--</td><td>--</td><td>--</td><td>--</td><td>https://gea.esac.esa.int/data-server/datalink/links?ID=Gaia+DR2+1069324467316567808</td><td>0.06418060056476198</td></tr>\n",
       "<tr><td>1635721458409799680</td><td>Gaia DR2 1069327667067638528</td><td>1069327667067638528</td><td>1354275399</td><td>2015.5</td><td>139.5479352194014</td><td>0.015042073561247689</td><td>67.43888694135664</td><td>0.028071217578908802</td><td>1.107716136584836</td><td>0.030027832743478672</td><td>36.88965</td><td>-5.796755522212283</td><td>0.03063861880769959</td><td>-12.820726936383325</td><td>0.049068609991918664</td><td>0.2687931</td><td>-0.10700874</td><td>-0.27140114</td><td>-0.098889336</td><td>-0.5438803</td><td>-0.25161508</td><td>-0.33875853</td><td>0.33743504</td><td>0.11928158</td><td>0.2348424</td><td>310</td><td>0</td><td>308</td><td>2</td><td>-0.5134984</td><td>289.88638</td><td>0.0</td><td>0.0</td><td>31</td><td>False</td><td>26.46329</td><td>1.5931647312587875</td><td>0.004705593629232474</td><td>-0.044515427</td><td>35</td><td>16</td><td>0.055704493</td><td>0</td><td>38</td><td>False</td><td>332</td><td>21834.673204677914</td><td>6.269452770467801</td><td>3482.708</td><td>14.840499</td><td>34</td><td>11080.852931126807</td><td>21.77594375287401</td><td>508.85754</td><td>15.239955</td><td>35</td><td>15581.3616707585</td><td>17.97985041283625</td><td>866.6013</td><td>14.280406</td><td>1.2210952</td><td>0</td><td>0.95954895</td><td>0.39945602</td><td>0.5600929</td><td>--</td><td>--</td><td>0</td><td>--</td><td>--</td><td>--</td><td>NOT_AVAILABLE</td><td>146.14569401262293</td><td>38.68937660281966</td><td>116.10858351639341</td><td>48.43900649773514</td><td>100001</td><td>5361.6665</td><td>5333.0</td><td>5740.645</td><td>0.1735</td><td>0.085</td><td>0.3292</td><td>0.091</td><td>0.0474</td><td>0.1571</td><td>200111</td><td>0.990195</td><td>0.8637716</td><td>1.0008688</td><td>0.730021</td><td>0.682015</td><td>0.778027</td><td>https://gea.esac.esa.int/data-server/datalink/links?ID=Gaia+DR2+1069327667067638528</td><td>0.06444714861829852</td></tr>\n",
       "</table></div>"
      ],
      "text/plain": [
       "<Table length=50>\n",
       "    solution_id             DESIGNATION          ...          dist         \n",
       "                                                 ...                       \n",
       "       int64                   object            ...        float64        \n",
       "------------------- ---------------------------- ... ----------------------\n",
       "1635721458409799680 Gaia DR2 1069326945513133952 ... 0.00012418505986439715\n",
       "1635721458409799680 Gaia DR2 1069326842433919104 ...   0.007890104614532437\n",
       "1635721458409799680 Gaia DR2 1069326906857463552 ...    0.02030611882100404\n",
       "1635721458409799680 Gaia DR2 1069326773714441728 ...   0.023411695001841357\n",
       "1635721458409799680 Gaia DR2 1069326769419046272 ...    0.02616227401634749\n",
       "1635721458409799680 Gaia DR2 1069327357829992192 ...   0.029385229389173588\n",
       "                ...                          ... ...                    ...\n",
       "1635721458409799680 Gaia DR2 1069325227526217984 ...    0.06345359887022604\n",
       "1635721458409799680 Gaia DR2 1069325846001554688 ...    0.06352868462652314\n",
       "1635721458409799680 Gaia DR2 1069328590484680960 ...    0.06362975376706119\n",
       "1635721458409799680 Gaia DR2 1069326254022987648 ...    0.06405704716657189\n",
       "1635721458409799680 Gaia DR2 1069324467316567808 ...    0.06418060056476198\n",
       "1635721458409799680 Gaia DR2 1069327667067638528 ...    0.06444714861829852"
      ]
     },
     "execution_count": 25,
     "metadata": {},
     "output_type": "execute_result"
    }
   ],
   "source": [
    "Gaia.query_object(pos, width, height)"
   ]
  },
  {
   "cell_type": "code",
   "execution_count": null,
   "id": "27c99b65",
   "metadata": {},
   "outputs": [],
   "source": []
  }
 ],
 "metadata": {
  "kernelspec": {
   "display_name": "Python 3 (ipykernel)",
   "language": "python",
   "name": "python3"
  },
  "language_info": {
   "codemirror_mode": {
    "name": "ipython",
    "version": 3
   },
   "file_extension": ".py",
   "mimetype": "text/x-python",
   "name": "python",
   "nbconvert_exporter": "python",
   "pygments_lexer": "ipython3",
   "version": "3.9.10"
  }
 },
 "nbformat": 4,
 "nbformat_minor": 5
}
