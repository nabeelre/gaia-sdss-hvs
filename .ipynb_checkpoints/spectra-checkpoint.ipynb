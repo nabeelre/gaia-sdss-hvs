{
 "cells": [
  {
   "cell_type": "code",
   "execution_count": 92,
   "id": "a6ebbd8c",
   "metadata": {},
   "outputs": [],
   "source": [
    "import numpy as np\n",
    "import pandas as pd\n",
    "import matplotlib.pyplot as plt\n",
    "from astroquery.sdss import SDSS\n",
    "import astropy.coordinates as coord\n",
    "from astropy.io import fits\n",
    "import astropy"
   ]
  },
  {
   "cell_type": "code",
   "execution_count": null,
   "id": "c7fc6c34",
   "metadata": {},
   "outputs": [],
   "source": [
    "names = [\n",
    "    \"SDSS J091301.00+305120.0\",\n",
    "    \"SDSS J091759.42+672238.7\",\n",
    "    \"SDSS J110557.45+093439.5\",\n",
    "    \"SDSS J113312.12+010824.9\",\n",
    "    \"SDSS J094214.04+200322.1\",\n",
    "    \"SDSS J102137.08-005234.8\",\n",
    "    \"SDSS J120337.85+180250.4\"\n",
    "]\n",
    "\n",
    "# '0h8m05.63s +14d50m23.3s'"
   ]
  },
  {
   "cell_type": "code",
   "execution_count": 2,
   "id": "06c0b369",
   "metadata": {},
   "outputs": [],
   "source": [
    "SDSS_name = \"SDSS J091301.00+305120.0\""
   ]
  },
  {
   "cell_type": "code",
   "execution_count": 6,
   "id": "398a5bf7",
   "metadata": {
    "scrolled": false
   },
   "outputs": [],
   "source": [
    "def extract_coords(SDSS_name):\n",
    "    SDSS_name = SDSS_name[6:]\n",
    "    \n",
    "    decsign = ''\n",
    "    if '+' in SDSS_name:\n",
    "        decsign = '+'\n",
    "    elif '-' in SDSS_name:\n",
    "        decsign = '-'\n",
    "    else:\n",
    "        print(\"couldn't find declination sign\")\n",
    "        \n",
    "    RA = SDSS_name[0:SDSS_name.index(decsign)]\n",
    "    RA = RA[0:2] + 'h' + RA[2:4] + 'm' + RA[4:] + 's'\n",
    "    \n",
    "    Dec = SDSS_name[SDSS_name.index(decsign):]\n",
    "    Dec = Dec[0:3] + 'd' + Dec[3:5] + 'm' + Dec[5:] + 's'\n",
    "    \n",
    "    return RA, Dec"
   ]
  },
  {
   "cell_type": "code",
   "execution_count": 9,
   "id": "3b5e5ac2",
   "metadata": {},
   "outputs": [],
   "source": [
    "RA, Dec = extract_coords(SDSS_name)"
   ]
  },
  {
   "cell_type": "code",
   "execution_count": 70,
   "id": "5ff97cc7",
   "metadata": {},
   "outputs": [
    {
     "name": "stdout",
     "output_type": "stream",
     "text": [
      "(1, 18)\n",
      "<astropy.io.fits.hdu.image.PrimaryHDU object at 0x13f293e20>\n",
      "<astropy.io.fits.hdu.table.BinTableHDU object at 0x13f249310>\n",
      "<astropy.io.fits.hdu.table.BinTableHDU object at 0x13f1dc580>\n",
      "<astropy.io.fits.hdu.table.BinTableHDU object at 0x13f1dcf10>\n",
      "<astropy.io.fits.hdu.table.BinTableHDU object at 0x13f0febb0>\n",
      "<astropy.io.fits.hdu.table.BinTableHDU object at 0x13f155820>\n",
      "<astropy.io.fits.hdu.table.BinTableHDU object at 0x13fb5f490>\n",
      "<astropy.io.fits.hdu.table.BinTableHDU object at 0x13fbe7100>\n",
      "<astropy.io.fits.hdu.table.BinTableHDU object at 0x13f591d30>\n",
      "<astropy.io.fits.hdu.table.BinTableHDU object at 0x13f60b9a0>\n",
      "<astropy.io.fits.hdu.table.BinTableHDU object at 0x13f76b610>\n",
      "<astropy.io.fits.hdu.table.BinTableHDU object at 0x13f8b1280>\n",
      "<astropy.io.fits.hdu.table.BinTableHDU object at 0x13f7c3eb0>\n",
      "<astropy.io.fits.hdu.table.BinTableHDU object at 0x13f98aac0>\n",
      "<astropy.io.fits.hdu.table.BinTableHDU object at 0x13f796730>\n",
      "<astropy.io.fits.hdu.table.BinTableHDU object at 0x13f5cb3a0>\n",
      "<astropy.io.fits.hdu.table.BinTableHDU object at 0x13f5effd0>\n",
      "<astropy.io.fits.hdu.table.BinTableHDU object at 0x13f4b9c40>\n",
      "<class 'astropy.io.fits.hdu.hdulist.HDUList'>\n",
      "None\n"
     ]
    }
   ],
   "source": [
    "pos = coord.SkyCoord(RA + ' ' + Dec, frame='icrs')\n",
    "xid = SDSS.query_region(pos, spectro=True)\n",
    "\n",
    "sp = SDSS.get_spectra(matches=xid)\n",
    "\n",
    "print(np.shape(sp))\n",
    "\n",
    "for hdu in sp[0]:\n",
    "    print(hdu)\n",
    "# print(sp[0])\n",
    "\n",
    "print(type(sp[0]))\n",
    "    \n",
    "print(sp[0].fileinfo(5))"
   ]
  },
  {
   "cell_type": "code",
   "execution_count": 103,
   "id": "c0c98611",
   "metadata": {},
   "outputs": [
    {
     "name": "stdout",
     "output_type": "stream",
     "text": [
      "Filename: (No file associated with this HDUList)\n",
      "No.    Name      Ver    Type      Cards   Dimensions   Format\n",
      "  0  SPECOBJ       1 BinTableHDU    262   1R x 126C   ['6A', '4A', '16A', '23A', '16A', '8A', 'E', 'E', 'E', 'J', 'E', 'E', 'J', 'B', 'B', 'B', 'B', 'B', 'B', 'J', '22A', '19A', '19A', '22A', '19A', 'I', '3A', '3A', '1A', 'J', 'D', 'D', 'D', 'E', 'E', '19A', '8A', 'J', 'J', 'J', 'J', 'K', 'K', 'J', 'J', 'J', 'J', 'J', 'J', 'K', 'K', 'K', 'K', 'I', 'J', 'J', 'J', 'J', '5J', 'D', 'D', '6A', '21A', 'E', 'E', 'E', 'J', 'E', '24A', '10J', 'J', '10E', 'E', 'E', 'E', 'E', 'E', 'E', 'J', 'E', 'E', 'E', 'J', 'E', '5E', 'E', '10E', '10E', '10E', '5E', '5E', '5E', '5E', '5E', 'J', 'J', 'E', 'E', 'E', 'E', 'E', 'E', '25A', '21A', '10A', 'E', 'E', 'E', 'E', 'E', 'E', 'E', 'E', 'J', 'E', 'E', 'J', '1A', '1A', 'E', 'E', 'J', 'J', '1A', '5E', '5E']   \n",
      "  1  SPZLINE       1 BinTableHDU     48   29R x 19C   ['J', 'J', 'J', '13A', 'D', 'E', 'E', 'E', 'E', 'E', 'E', 'E', 'E', 'E', 'E', 'J', 'J', 'E', 'E']   \n",
      "  2  B2-00036966-00036971-00036972    1 BinTableHDU    146   2047R x 7C   ['E', 'E', 'E', 'J', 'E', 'E', 'E']   \n",
      "  3  B2-00036967-00036971-00036972    1 BinTableHDU    146   2047R x 7C   ['E', 'E', 'E', 'J', 'E', 'E', 'E']   \n",
      "  4  B2-00036968-00036971-00036972    1 BinTableHDU    146   2047R x 7C   [E, E, E, J, E, E, E]   \n",
      "  5  B2-00036970-00036971-00036972    1 BinTableHDU    146   2047R x 7C   [E, E, E, J, E, E, E]   \n",
      "  6  B2-00036973-00036971-00036972    1 BinTableHDU    146   2047R x 7C   [E, E, E, J, E, E, E]   \n",
      "  7  B2-00036974-00036971-00036972    1 BinTableHDU    146   2047R x 7C   ['E', 'E', 'E', 'J', 'E', 'E', 'E']   \n",
      "  8  B2-00036975-00036971-00036972    1 BinTableHDU    146   2047R x 7C   [E, E, E, J, E, E, E]   \n",
      "  9  R2-00036966-00036971-00036972    1 BinTableHDU    146   2034R x 7C   [E, E, E, J, E, E, E]   \n",
      " 10  R2-00036967-00036971-00036972    1 BinTableHDU    146   2035R x 7C   [E, E, E, J, E, E, E]   \n",
      " 11  R2-00036968-00036971-00036972    1 BinTableHDU    146   2035R x 7C   [E, E, E, J, E, E, E]   \n",
      " 12  R2-00036970-00036971-00036972    1 BinTableHDU    146   2035R x 7C   [E, E, E, J, E, E, E]   \n",
      " 13  R2-00036973-00036971-00036972    1 BinTableHDU    146   2035R x 7C   [E, E, E, J, E, E, E]   \n",
      " 14  R2-00036974-00036971-00036972    1 BinTableHDU    146   2035R x 7C   [E, E, E, J, E, E, E]   \n",
      " 15  R2-00036975-00036971-00036972    1 BinTableHDU    146   2032R x 7C   [E, E, E, J, E, E, E]   \n"
     ]
    }
   ],
   "source": [
    "sp[0].info()"
   ]
  },
  {
   "cell_type": "code",
   "execution_count": 101,
   "id": "76b15de1",
   "metadata": {
    "scrolled": false
   },
   "outputs": [],
   "source": [
    "bintable_hdu = sp[0][3]\n",
    "\n",
    "fits_rec = bintable_hdu.data"
   ]
  },
  {
   "cell_type": "code",
   "execution_count": 104,
   "id": "a331311f",
   "metadata": {},
   "outputs": [
    {
     "data": {
      "text/plain": [
       "(15.978868, 3.7903955, 0.00036119908, 0, 0.7392294, 13.685698, 0.3699743)"
      ]
     },
     "execution_count": 104,
     "metadata": {},
     "output_type": "execute_result"
    }
   ],
   "source": [
    "fits_rec[0]"
   ]
  },
  {
   "cell_type": "code",
   "execution_count": null,
   "id": "d4fca0b0",
   "metadata": {},
   "outputs": [],
   "source": []
  }
 ],
 "metadata": {
  "kernelspec": {
   "display_name": "Python 3 (ipykernel)",
   "language": "python",
   "name": "python3"
  },
  "language_info": {
   "codemirror_mode": {
    "name": "ipython",
    "version": 3
   },
   "file_extension": ".py",
   "mimetype": "text/x-python",
   "name": "python",
   "nbconvert_exporter": "python",
   "pygments_lexer": "ipython3",
   "version": "3.9.10"
  }
 },
 "nbformat": 4,
 "nbformat_minor": 5
}
