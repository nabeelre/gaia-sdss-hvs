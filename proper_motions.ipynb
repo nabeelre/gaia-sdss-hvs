{
 "cells": [
  {
   "cell_type": "code",
   "execution_count": null,
   "id": "ac9455bb",
   "metadata": {},
   "outputs": [],
   "source": [
    "import numpy as np\n",
    "import pandas as pd\n",
    "import matplotlib.pyplot as plt\n",
    "\n",
    "import astropy.coordinates as coord\n",
    "import astropy.units as u\n",
    "\n",
    "from astroquery.gaia import Gaia\n",
    "import HVS_analyzer as hvs\n",
    "\n",
    "BOLD = \"\\033[1m\"\n",
    "END  = \"\\033[0m\""
   ]
  },
  {
   "cell_type": "code",
   "execution_count": null,
   "id": "12216cae",
   "metadata": {},
   "outputs": [],
   "source": [
    "names = [\n",
    "    \"SDSS J013655.91+242546.0\",\n",
    "    \"SDSS J090745.0+024507\", \n",
    "    \"SDSS J091301.00+305120.0\",\n",
    "    \"SDSS J091759.42+672238.7\",\n",
    "    \"SDSS J110557.45+093439.5\",\n",
    "    \"SDSS J113312.12+010824.9\",\n",
    "    \"SDSS J094214.04+200322.1\",\n",
    "    \"SDSS J102137.08-005234.8\",\n",
    "    \"SDSS J120337.85+180250.4\"\n",
    "]"
   ]
  },
  {
   "cell_type": "code",
   "execution_count": null,
   "id": "147b2143",
   "metadata": {},
   "outputs": [],
   "source": [
    "RA, Dec = hvs.extract_coords(names[0])\n",
    "pos = coord.SkyCoord(RA + ' ' + Dec, frame='icrs')\n",
    "pos"
   ]
  },
  {
   "cell_type": "code",
   "execution_count": null,
   "id": "1ec5a1c3",
   "metadata": {},
   "outputs": [],
   "source": [
    "pos = coord.SkyCoord(ra=24.23295833*u.deg, dec=24.42944444*u.deg)\n",
    "pos"
   ]
  },
  {
   "cell_type": "code",
   "execution_count": null,
   "id": "7433e539",
   "metadata": {},
   "outputs": [],
   "source": [
    "width = u.Quantity(5, u.arcsec)\n",
    "height = u.Quantity(5, u.arcsec)"
   ]
  },
  {
   "cell_type": "code",
   "execution_count": null,
   "id": "1685a476",
   "metadata": {},
   "outputs": [],
   "source": [
    "r = Gaia.query_object_async(coordinate=pos, width=width, height=height)"
   ]
  },
  {
   "cell_type": "code",
   "execution_count": null,
   "id": "ba4090b9",
   "metadata": {},
   "outputs": [],
   "source": [
    "r[0]"
   ]
  },
  {
   "cell_type": "code",
   "execution_count": null,
   "id": "fb90a0bd",
   "metadata": {},
   "outputs": [],
   "source": [
    "print(r['parallax'])\n",
    "print(r['parallax'].data[0])"
   ]
  },
  {
   "cell_type": "code",
   "execution_count": null,
   "id": "a58ee0c5",
   "metadata": {},
   "outputs": [],
   "source": [
    "for name in names:\n",
    "    RA, Dec = rv.extract_coords(names[0])\n",
    "    pos = coord.SkyCoord(RA + ' ' + Dec, frame='icrs')\n",
    "    Gaia.query_object_async(coordinate=pos, width=width, height=height)\n",
    "    print(r['DESIGNATION'])\n"
   ]
  },
  {
   "cell_type": "code",
   "execution_count": null,
   "id": "0545d40d",
   "metadata": {},
   "outputs": [],
   "source": []
  }
 ],
 "metadata": {
  "kernelspec": {
   "display_name": "Python 3 (ipykernel)",
   "language": "python",
   "name": "python3"
  },
  "language_info": {
   "codemirror_mode": {
    "name": "ipython",
    "version": 3
   },
   "file_extension": ".py",
   "mimetype": "text/x-python",
   "name": "python",
   "nbconvert_exporter": "python",
   "pygments_lexer": "ipython3",
   "version": "3.9.10"
  }
 },
 "nbformat": 4,
 "nbformat_minor": 5
}
