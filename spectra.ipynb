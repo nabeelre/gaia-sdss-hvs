{
 "cells": [
  {
   "cell_type": "code",
   "execution_count": null,
   "id": "a6ebbd8c",
   "metadata": {},
   "outputs": [],
   "source": [
    "import numpy as np\n",
    "import pandas as pd\n",
    "import matplotlib.pyplot as plt\n",
    "\n",
    "import astropy\n",
    "from astropy.io import fits\n",
    "from astropy.table import Table\n",
    "import astropy.coordinates as coord\n",
    "import astropy.units as u\n",
    "from astropy.wcs import WCS\n",
    "\n",
    "from astroquery.sdss import SDSS"
   ]
  },
  {
   "cell_type": "code",
   "execution_count": null,
   "id": "398a5bf7",
   "metadata": {
    "scrolled": false
   },
   "outputs": [],
   "source": [
    "def extract_coords(SDSS_name):\n",
    "    SDSS_name = SDSS_name[6:]\n",
    "    \n",
    "    decsign = ''\n",
    "    if '+' in SDSS_name:\n",
    "        decsign = '+'\n",
    "    elif '-' in SDSS_name:\n",
    "        decsign = '-'\n",
    "    else:\n",
    "        print(\"couldn't find declination sign\")\n",
    "        \n",
    "    RA = SDSS_name[0:SDSS_name.index(decsign)]\n",
    "    RA = RA[0:2] + 'h' + RA[2:4] + 'm' + RA[4:] + 's'\n",
    "    \n",
    "    Dec = SDSS_name[SDSS_name.index(decsign):]\n",
    "    Dec = Dec[0:3] + 'd' + Dec[3:5] + 'm' + Dec[5:] + 's'\n",
    "    \n",
    "    return RA, Dec"
   ]
  },
  {
   "cell_type": "code",
   "execution_count": null,
   "id": "14848c83",
   "metadata": {},
   "outputs": [],
   "source": [
    "def rolling_quant(x, y, N_pix, stat=np.median):\n",
    "    rm = np.zeros(len(x))\n",
    "    for i in range(len(x)):\n",
    "        if i < int(N_pix/2):\n",
    "            rm[i] = stat(y[0:i+int(N_pix/2)])\n",
    "        elif i <= len(x)-int(N_pix/2):\n",
    "            rm[i] = stat(y[i-int(N_pix/2):i+int(N_pix/2)])\n",
    "        else:  # i > len(x)-int(N_pix/2)\n",
    "            rm[i] = stat(y[i-int(N_pix/2):-1])\n",
    "    return rm"
   ]
  },
  {
   "cell_type": "code",
   "execution_count": null,
   "id": "d3d90795",
   "metadata": {},
   "outputs": [],
   "source": [
    "def remove_digits(string):\n",
    "    digits = '0123456789'\n",
    "\n",
    "    table = str.maketrans('', '', digits)\n",
    "    return string.translate(table)\n"
   ]
  },
  {
   "cell_type": "code",
   "execution_count": null,
   "id": "f1ca2395",
   "metadata": {},
   "outputs": [],
   "source": [
    "names = [\n",
    "    \"SDSS J013655.91+242546.0\",\n",
    "    \"SDSS J090745.0+024507\", \n",
    "    \"SDSS J091301.00+305120.0\",\n",
    "    \"SDSS J091759.42+672238.7\",\n",
    "    \"SDSS J110557.45+093439.5\",\n",
    "    \"SDSS J113312.12+010824.9\",\n",
    "    \"SDSS J094214.04+200322.1\",\n",
    "    \"SDSS J102137.08-005234.8\",\n",
    "    \"SDSS J120337.85+180250.4\"\n",
    "]\n",
    "\n",
    "name = names[0]"
   ]
  },
  {
   "cell_type": "code",
   "execution_count": null,
   "id": "3b5e5ac2",
   "metadata": {},
   "outputs": [],
   "source": [
    "RA, Dec = extract_coords(name)\n",
    "print(RA, Dec)"
   ]
  },
  {
   "cell_type": "code",
   "execution_count": null,
   "id": "5ff97cc7",
   "metadata": {
    "scrolled": true
   },
   "outputs": [],
   "source": [
    "pos = coord.SkyCoord(RA + ' ' + Dec, frame='icrs')\n",
    "print(pos,'\\n\\n')\n",
    "search_radius = 5*u.arcmin\n",
    "\n",
    "xid = SDSS.query_region(pos, spectro=True, radius=search_radius)\n",
    "\n",
    "print(\"Query result\\n\", xid ,'\\n\\n')\n",
    "\n",
    "sp = SDSS.get_spectra(matches=xid)\n",
    "\n",
    "print(\"Get spectra result\\n\", np.shape(sp), type(sp), type(sp[0]))\n",
    "\n",
    "for hdu in sp[0]:\n",
    "    print(hdu)"
   ]
  },
  {
   "cell_type": "code",
   "execution_count": null,
   "id": "9d8cda54",
   "metadata": {
    "scrolled": false
   },
   "outputs": [],
   "source": [
    "# print(sp[0].info())\n",
    "# sp[0][0].header"
   ]
  },
  {
   "cell_type": "code",
   "execution_count": null,
   "id": "76b15de1",
   "metadata": {
    "scrolled": true
   },
   "outputs": [],
   "source": [
    "star_dat = sp[0][1].data\n",
    "\n",
    "star_wavelengths = 10**star_dat['loglam']  # * u.Angstrom\n",
    "star_flux = star_dat['flux'] #* 1e-17  # *u.erg/u.cm**2/u.s/u.Angstrom\n"
   ]
  },
  {
   "cell_type": "code",
   "execution_count": null,
   "id": "8e649c29",
   "metadata": {},
   "outputs": [],
   "source": [
    "star_continuum = rolling_quant(star_wavelengths, star_flux, 100, lambda x: np.percentile(x, 90))\n",
    "star_normed = star_flux/star_continuum\n",
    "\n",
    "# Npixels = 100\n",
    "# plt.figure(figsize=(15,7))\n",
    "# plt.plot(wavelengths, flux, lw=0.5)\n",
    "# plt.plot(wavelengths, rolling_quant(wavelengths.value, flux.value, Npixels, lambda x: np.percentile(x, 90)), lw=1, c='purple', label='Rolling Percentile Continuum N=1000')\n",
    "# plt.xlabel(\"Wavelength (Angstrom)\")\n",
    "# plt.ylabel(\"flux\")\n",
    "# plt.legend()\n",
    "# plt.show()\n",
    "\n",
    "# plt.figure(figsize=(15,7))\n",
    "# plt.plot(wavelengths, flux, lw=0.5)\n",
    "# plt.plot(wavelengths, rolling_quant(wavelengths.value, flux.value, Npixels, lambda x: np.percentile(x, 90)), lw=1, c='purple', label='Rolling Percentile Continuum N=1000')\n",
    "# plt.xlabel(\"Wavelength (Angstrom)\")\n",
    "# plt.ylabel(\"flux\")\n",
    "# plt.xlim([4200,4400])\n",
    "# plt.legend()\n",
    "# plt.show()"
   ]
  },
  {
   "cell_type": "code",
   "execution_count": null,
   "id": "bdc530cc",
   "metadata": {},
   "outputs": [],
   "source": [
    "plt.figure(figsize=(15,5))\n",
    "# plt.plot(wavelengths, star_flux)\n",
    "plt.plot(star_wavelengths, star_normed)\n",
    "plt.plot()\n",
    "plt.show()"
   ]
  },
  {
   "cell_type": "code",
   "execution_count": null,
   "id": "71e35581",
   "metadata": {},
   "outputs": [],
   "source": [
    "spec_type = remove_digits(sp[0][2].header['TFORM1'])\n",
    "\n",
    "template = SDSS.get_spectral_template(f'star_{spec_type}')\n",
    "\n",
    "# borrowed from https://github.com/rpmunoz/PentaUC\n",
    "spec_hdr = template[0][0].header\n",
    "spec_dat = template[0][0].data\n",
    "wcs = WCS(spec_hdr)  \n",
    "\n",
    "index = np.arange(spec_hdr['NAXIS1'])\n",
    "tmpl_wavelengths = 10**wcs.wcs_pix2world(index, np.zeros(len(index)), 0)[0]\n",
    "tmpl_flux = spec_dat[0]"
   ]
  },
  {
   "cell_type": "code",
   "execution_count": null,
   "id": "78646c82",
   "metadata": {},
   "outputs": [],
   "source": [
    "tmpl_continuum = rolling_quant(tmpl_wavelengths, tmpl_flux, 100, lambda x: np.percentile(x, 90))\n",
    "tmpl_normed = tmpl_flux/tmpl_continuum\n"
   ]
  },
  {
   "cell_type": "code",
   "execution_count": null,
   "id": "f2a4c5f1",
   "metadata": {},
   "outputs": [],
   "source": [
    "plt.figure(figsize=(15,5))\n",
    "plt.plot(tmpl_wavelengths, tmpl_normed)\n",
    "plt.plot(star_wavelengths, star_normed)\n",
    "plt.show()"
   ]
  },
  {
   "cell_type": "code",
   "execution_count": null,
   "id": "11988b4c",
   "metadata": {},
   "outputs": [],
   "source": [
    "def CCF(shift, spec_wls, spec_dat, tmpl_wls, tmpl_dat):\n",
    "    shifted_data = np.interp(spec_wls, doppler_shift(tmpl_wls, shift), tmpl_dat)\n",
    "    return np.correlate(shifted_data, spec_dat)[0]"
   ]
  },
  {
   "cell_type": "code",
   "execution_count": null,
   "id": "e5cd0c6e",
   "metadata": {},
   "outputs": [],
   "source": [
    "def doppler_shift(wavelens, radvel):\n",
    "    # radvel in km/s\n",
    "    return wavelens*(1+(radvel/(3e5*u.km/u.s)).to(u.dimensionless_unscaled))"
   ]
  },
  {
   "cell_type": "code",
   "execution_count": null,
   "id": "6035d507",
   "metadata": {},
   "outputs": [],
   "source": [
    "shifts = np.linspace(-1000, 1000, int(1e5))*u.km/u.s\n",
    "XCs = [CCF(shift, star_wavelengths, star_normed, tmpl_wavelengths, tmpl_normed) for shift in shifts]    \n",
    "\n",
    "RV = shifts[np.argmax(XCs)]\n",
    "\n",
    "SN = np.median((spec_hdr['SN_G'], spec_hdr['SN_I'], spec_hdr['SN_R']))\n",
    "sig_RV = 500/SN*u.m/u.s\n",
    "\n",
    "print(f\"RV = {RV:.2e} +/- {sig_RV.to(u.km/u.s):.2e}\")"
   ]
  },
  {
   "cell_type": "code",
   "execution_count": null,
   "id": "4bd7836d",
   "metadata": {},
   "outputs": [],
   "source": [
    "plt.figure(figsize=(15,7))\n",
    "plt.plot(shifts, XCs)\n",
    "plt.axvline(RV.value)\n",
    "plt.xlabel('doppler shift (km/s)', size=16)\n",
    "plt.ylabel('XC', size=16)\n",
    "plt.show()"
   ]
  },
  {
   "cell_type": "code",
   "execution_count": null,
   "id": "b0db7ca4",
   "metadata": {},
   "outputs": [],
   "source": [
    "plt.figure(figsize=(15,5))\n",
    "plt.plot(tmpl_wavelengths, tmpl_normed)\n",
    "plt.plot(doppler_shift(star_wavelengths, RV), star_normed)\n",
    "plt.plot()\n",
    "plt.show()"
   ]
  },
  {
   "cell_type": "code",
   "execution_count": null,
   "id": "a5915a72",
   "metadata": {
    "scrolled": false
   },
   "outputs": [],
   "source": []
  },
  {
   "cell_type": "code",
   "execution_count": null,
   "id": "62c5f823",
   "metadata": {},
   "outputs": [],
   "source": []
  }
 ],
 "metadata": {
  "interpreter": {
   "hash": "b0fa6594d8f4cbf19f97940f81e996739fb7646882a419484c72d19e05852a7e"
  },
  "kernelspec": {
   "display_name": "Python 3.9.10 64-bit",
   "language": "python",
   "name": "python3"
  },
  "language_info": {
   "codemirror_mode": {
    "name": "ipython",
    "version": 3
   },
   "file_extension": ".py",
   "mimetype": "text/x-python",
   "name": "python",
   "nbconvert_exporter": "python",
   "pygments_lexer": "ipython3",
   "version": "3.9.10"
  }
 },
 "nbformat": 4,
 "nbformat_minor": 5
}
